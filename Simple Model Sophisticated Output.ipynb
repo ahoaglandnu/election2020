{
 "cells": [
  {
   "cell_type": "markdown",
   "metadata": {},
   "source": [
    "# If we make a bad model, how close will it be to the \"good\" ones?"
   ]
  },
  {
   "cell_type": "markdown",
   "metadata": {},
   "source": [
    "Most of us don't have a clear understanding of probabilities, especially when it comes to polling data. The more \"sophisticated\" the forecast, the more of a false confidence it can create in the certainty of the outcome.   \n",
    "\n",
    "If all of these forecasts have corrected for 2016 or at least claim that they had a good model in 2016, then a poorly constructed model should have different results. "
   ]
  },
  {
   "cell_type": "markdown",
   "metadata": {},
   "source": [
    "### What are the odds the \"sophisticated\" models are bs?"
   ]
  },
  {
   "cell_type": "code",
   "execution_count": 1,
   "metadata": {},
   "outputs": [],
   "source": [
    "%matplotlib inline\n",
    "import numpy as np\n",
    "import pandas as pd\n",
    "import random\n",
    "from datetime import datetime\n",
    "from collections import Counter\n",
    "import matplotlib.pyplot as plt\n",
    "plt.style.use('ggplot')\n",
    "random.seed(2016538)\n",
    "np.random.seed(seed=2016538)"
   ]
  },
  {
   "cell_type": "markdown",
   "metadata": {},
   "source": [
    "### We start by pulling in the state averages from RealClearPolitics"
   ]
  },
  {
   "cell_type": "code",
   "execution_count": 2,
   "metadata": {},
   "outputs": [],
   "source": [
    "filename = 'election_polls_20200822.csv'\n",
    "df = pd.read_csv(filename)"
   ]
  },
  {
   "cell_type": "code",
   "execution_count": 3,
   "metadata": {},
   "outputs": [],
   "source": [
    "df = df[df['Poll'].str.startswith(\"RCP\")].reset_index(drop=True)"
   ]
  },
  {
   "cell_type": "code",
   "execution_count": 4,
   "metadata": {},
   "outputs": [
    {
     "data": {
      "text/html": [
       "<div>\n",
       "<style scoped>\n",
       "    .dataframe tbody tr th:only-of-type {\n",
       "        vertical-align: middle;\n",
       "    }\n",
       "\n",
       "    .dataframe tbody tr th {\n",
       "        vertical-align: top;\n",
       "    }\n",
       "\n",
       "    .dataframe thead th {\n",
       "        text-align: right;\n",
       "    }\n",
       "</style>\n",
       "<table border=\"1\" class=\"dataframe\">\n",
       "  <thead>\n",
       "    <tr style=\"text-align: right;\">\n",
       "      <th></th>\n",
       "      <th>State</th>\n",
       "      <th>Poll</th>\n",
       "      <th>Date</th>\n",
       "      <th>SampleSize</th>\n",
       "      <th>Segment</th>\n",
       "      <th>MoE</th>\n",
       "      <th>Biden (D)</th>\n",
       "      <th>Trump (R)</th>\n",
       "      <th>Spread</th>\n",
       "    </tr>\n",
       "  </thead>\n",
       "  <tbody>\n",
       "    <tr>\n",
       "      <th>0</th>\n",
       "      <td>mo</td>\n",
       "      <td>RCP Average</td>\n",
       "      <td>5/26 - 7/1</td>\n",
       "      <td>--</td>\n",
       "      <td>NaN</td>\n",
       "      <td>--</td>\n",
       "      <td>43.3</td>\n",
       "      <td>49.7</td>\n",
       "      <td>Trump +6.4</td>\n",
       "    </tr>\n",
       "    <tr>\n",
       "      <th>1</th>\n",
       "      <td>mi</td>\n",
       "      <td>RCP Average</td>\n",
       "      <td>7/25 - 8/9</td>\n",
       "      <td>--</td>\n",
       "      <td>NaN</td>\n",
       "      <td>--</td>\n",
       "      <td>48.7</td>\n",
       "      <td>42.0</td>\n",
       "      <td>Biden +6.7</td>\n",
       "    </tr>\n",
       "    <tr>\n",
       "      <th>2</th>\n",
       "      <td>oh</td>\n",
       "      <td>RCP Average</td>\n",
       "      <td>6/24 - 7/24</td>\n",
       "      <td>--</td>\n",
       "      <td>NaN</td>\n",
       "      <td>--</td>\n",
       "      <td>47.0</td>\n",
       "      <td>44.7</td>\n",
       "      <td>Biden +2.3</td>\n",
       "    </tr>\n",
       "    <tr>\n",
       "      <th>3</th>\n",
       "      <td>ia</td>\n",
       "      <td>RCP Average</td>\n",
       "      <td>4/30 - 8/3</td>\n",
       "      <td>--</td>\n",
       "      <td>NaN</td>\n",
       "      <td>--</td>\n",
       "      <td>45.0</td>\n",
       "      <td>46.7</td>\n",
       "      <td>Trump +1.7</td>\n",
       "    </tr>\n",
       "    <tr>\n",
       "      <th>4</th>\n",
       "      <td>mn</td>\n",
       "      <td>RCP Average</td>\n",
       "      <td>7/18 - 8/18</td>\n",
       "      <td>--</td>\n",
       "      <td>NaN</td>\n",
       "      <td>--</td>\n",
       "      <td>49.3</td>\n",
       "      <td>44.0</td>\n",
       "      <td>Biden +5.3</td>\n",
       "    </tr>\n",
       "  </tbody>\n",
       "</table>\n",
       "</div>"
      ],
      "text/plain": [
       "  State         Poll         Date SampleSize Segment MoE  Biden (D)  \\\n",
       "0    mo  RCP Average   5/26 - 7/1         --     NaN  --       43.3   \n",
       "1    mi  RCP Average   7/25 - 8/9         --     NaN  --       48.7   \n",
       "2    oh  RCP Average  6/24 - 7/24         --     NaN  --       47.0   \n",
       "3    ia  RCP Average   4/30 - 8/3         --     NaN  --       45.0   \n",
       "4    mn  RCP Average  7/18 - 8/18         --     NaN  --       49.3   \n",
       "\n",
       "   Trump (R)      Spread  \n",
       "0       49.7  Trump +6.4  \n",
       "1       42.0  Biden +6.7  \n",
       "2       44.7  Biden +2.3  \n",
       "3       46.7  Trump +1.7  \n",
       "4       44.0  Biden +5.3  "
      ]
     },
     "execution_count": 4,
     "metadata": {},
     "output_type": "execute_result"
    }
   ],
   "source": [
    "df.head()"
   ]
  },
  {
   "cell_type": "markdown",
   "metadata": {},
   "source": [
    "### Probabilities the easy way   \n",
    "To get state probabilites, we will divide a candidate's polling average by the sum of biden plus trump"
   ]
  },
  {
   "cell_type": "code",
   "execution_count": 5,
   "metadata": {},
   "outputs": [],
   "source": [
    "df['biden'] = df['Biden (D)'] / (df['Biden (D)']+df['Trump (R)'])\n",
    "df['trump'] = df['Trump (R)'] / (df['Biden (D)']+df['Trump (R)'])"
   ]
  },
  {
   "cell_type": "code",
   "execution_count": 6,
   "metadata": {},
   "outputs": [
    {
     "data": {
      "text/html": [
       "<div>\n",
       "<style scoped>\n",
       "    .dataframe tbody tr th:only-of-type {\n",
       "        vertical-align: middle;\n",
       "    }\n",
       "\n",
       "    .dataframe tbody tr th {\n",
       "        vertical-align: top;\n",
       "    }\n",
       "\n",
       "    .dataframe thead th {\n",
       "        text-align: right;\n",
       "    }\n",
       "</style>\n",
       "<table border=\"1\" class=\"dataframe\">\n",
       "  <thead>\n",
       "    <tr style=\"text-align: right;\">\n",
       "      <th></th>\n",
       "      <th>State</th>\n",
       "      <th>biden</th>\n",
       "      <th>trump</th>\n",
       "    </tr>\n",
       "  </thead>\n",
       "  <tbody>\n",
       "    <tr>\n",
       "      <th>0</th>\n",
       "      <td>mo</td>\n",
       "      <td>0.465591</td>\n",
       "      <td>0.534409</td>\n",
       "    </tr>\n",
       "    <tr>\n",
       "      <th>1</th>\n",
       "      <td>mi</td>\n",
       "      <td>0.536935</td>\n",
       "      <td>0.463065</td>\n",
       "    </tr>\n",
       "    <tr>\n",
       "      <th>2</th>\n",
       "      <td>oh</td>\n",
       "      <td>0.512541</td>\n",
       "      <td>0.487459</td>\n",
       "    </tr>\n",
       "    <tr>\n",
       "      <th>3</th>\n",
       "      <td>ia</td>\n",
       "      <td>0.490731</td>\n",
       "      <td>0.509269</td>\n",
       "    </tr>\n",
       "    <tr>\n",
       "      <th>4</th>\n",
       "      <td>mn</td>\n",
       "      <td>0.528403</td>\n",
       "      <td>0.471597</td>\n",
       "    </tr>\n",
       "  </tbody>\n",
       "</table>\n",
       "</div>"
      ],
      "text/plain": [
       "  State     biden     trump\n",
       "0    mo  0.465591  0.534409\n",
       "1    mi  0.536935  0.463065\n",
       "2    oh  0.512541  0.487459\n",
       "3    ia  0.490731  0.509269\n",
       "4    mn  0.528403  0.471597"
      ]
     },
     "execution_count": 6,
     "metadata": {},
     "output_type": "execute_result"
    }
   ],
   "source": [
    "df[['State','biden','trump']].head()"
   ]
  },
  {
   "cell_type": "markdown",
   "metadata": {},
   "source": [
    "### Analysis is hard so use the 2016 election instead  \n",
    "Some states are missing polling data, so we will use the 2016 results."
   ]
  },
  {
   "cell_type": "code",
   "execution_count": 7,
   "metadata": {},
   "outputs": [],
   "source": [
    "url = 'https://raw.githubusercontent.com/TheEconomist/us-potus-model/master/data/potus_results_76_16.csv'\n",
    "df2 = pd.read_csv(url)\n",
    "df2 = df2[df2['year'] == 2016]\n",
    "df2['State'] = df2['state'].str.lower()"
   ]
  },
  {
   "cell_type": "code",
   "execution_count": 8,
   "metadata": {},
   "outputs": [],
   "source": [
    "df = df2.set_index('State').join(df.set_index('State'))"
   ]
  },
  {
   "cell_type": "code",
   "execution_count": 9,
   "metadata": {},
   "outputs": [],
   "source": [
    "df.loc[(df['biden'].isnull()),'biden'] = df.dem / (df.dem + df.rep)\n",
    "df.loc[(df['trump'].isnull()),'trump'] = df.rep / (df.dem + df.rep)"
   ]
  },
  {
   "cell_type": "markdown",
   "metadata": {},
   "source": [
    "### Add electoral college votes per state"
   ]
  },
  {
   "cell_type": "code",
   "execution_count": 10,
   "metadata": {},
   "outputs": [],
   "source": [
    "ec = {'mt':3,'sc':9,'tx':38,'me':4,'nc':15, 'co':9, 'nv':6, 'tn':11, 'az':11, 'ny':29, 'wi':10,\n",
    "      'ga':16, 'fl':29, 'ar':6, 'oh':18, 'va':13, 'ut':6, 'mn':10, 'nm':5, 'nj':14, 'ks':6, 'ky':8,\n",
    "      'ms':6, 'wa':12, 'mo':10, 'in':11, 'al':9, 'ma':11, 'nh':4, 'de':3, 'ia':6, 'ca':55, 'mi':16,\n",
    "      'pa':20, 'ak':3, 'ct':7, 'wy' : 3, 'wv' : 5, 'vt': 3, 'sd' : 3, 'ri' : 4, 'or' : 7, 'ok' : 7,\n",
    "      'nd' : 3, 'ne' : 5, 'md' : 10, 'la' : 8, 'il' : 20, 'id' : 4, 'hi': 4, 'dc': 3}\n",
    "ec =  {k.upper(): v for k, v in ec.items()}"
   ]
  },
  {
   "cell_type": "code",
   "execution_count": 11,
   "metadata": {},
   "outputs": [],
   "source": [
    "df['ec'] = df[\"state\"].map(lambda x:ec[x])"
   ]
  },
  {
   "cell_type": "code",
   "execution_count": 12,
   "metadata": {},
   "outputs": [
    {
     "data": {
      "text/html": [
       "<div>\n",
       "<style scoped>\n",
       "    .dataframe tbody tr th:only-of-type {\n",
       "        vertical-align: middle;\n",
       "    }\n",
       "\n",
       "    .dataframe tbody tr th {\n",
       "        vertical-align: top;\n",
       "    }\n",
       "\n",
       "    .dataframe thead th {\n",
       "        text-align: right;\n",
       "    }\n",
       "</style>\n",
       "<table border=\"1\" class=\"dataframe\">\n",
       "  <thead>\n",
       "    <tr style=\"text-align: right;\">\n",
       "      <th></th>\n",
       "      <th>ec</th>\n",
       "      <th>biden</th>\n",
       "      <th>trump</th>\n",
       "    </tr>\n",
       "    <tr>\n",
       "      <th>State</th>\n",
       "      <th></th>\n",
       "      <th></th>\n",
       "      <th></th>\n",
       "    </tr>\n",
       "  </thead>\n",
       "  <tbody>\n",
       "    <tr>\n",
       "      <th>ak</th>\n",
       "      <td>3</td>\n",
       "      <td>0.416143</td>\n",
       "      <td>0.583857</td>\n",
       "    </tr>\n",
       "    <tr>\n",
       "      <th>al</th>\n",
       "      <td>9</td>\n",
       "      <td>0.356259</td>\n",
       "      <td>0.643741</td>\n",
       "    </tr>\n",
       "    <tr>\n",
       "      <th>ar</th>\n",
       "      <td>6</td>\n",
       "      <td>0.357149</td>\n",
       "      <td>0.642851</td>\n",
       "    </tr>\n",
       "    <tr>\n",
       "      <th>az</th>\n",
       "      <td>11</td>\n",
       "      <td>0.510870</td>\n",
       "      <td>0.489130</td>\n",
       "    </tr>\n",
       "    <tr>\n",
       "      <th>ca</th>\n",
       "      <td>55</td>\n",
       "      <td>0.667774</td>\n",
       "      <td>0.332226</td>\n",
       "    </tr>\n",
       "  </tbody>\n",
       "</table>\n",
       "</div>"
      ],
      "text/plain": [
       "       ec     biden     trump\n",
       "State                        \n",
       "ak      3  0.416143  0.583857\n",
       "al      9  0.356259  0.643741\n",
       "ar      6  0.357149  0.642851\n",
       "az     11  0.510870  0.489130\n",
       "ca     55  0.667774  0.332226"
      ]
     },
     "execution_count": 12,
     "metadata": {},
     "output_type": "execute_result"
    }
   ],
   "source": [
    "df[['ec','biden','trump']].head()"
   ]
  },
  {
   "cell_type": "markdown",
   "metadata": {},
   "source": [
    "### Sounding fancy applying Stats 101 basics  \n",
    "Since polls have a 95% confidence interval, so will our simulation.   \n",
    "We will also give each state a normally distributed margin of error at +-3%"
   ]
  },
  {
   "cell_type": "code",
   "execution_count": 13,
   "metadata": {},
   "outputs": [],
   "source": [
    "def electoral_college(ec, cand, state, sims=40000):\n",
    "    cand_wins = 0\n",
    "    cand_ec_total = []\n",
    "    cand_states = []\n",
    "    for i in range(sims):\n",
    "        cand_ec = 0\n",
    "        cand_state = []\n",
    "        for x, y, z in zip(cand, states, ec):\n",
    "            sim_election = np.random.uniform(low=0.025,high=.975)\n",
    "            moe_x = np.random.normal(0.03,.1)\n",
    "            x1 = moe_x + x\n",
    "            if x1 > sim_election:\n",
    "                cand_ec += z\n",
    "                cand_state.append(y)\n",
    "        cand_ec_total.append(cand_ec)\n",
    "        cand_states.append(cand_state)\n",
    "        if cand_ec > 269:\n",
    "            cand_wins += 1\n",
    "    return cand_wins, cand_ec_total, cand_states"
   ]
  },
  {
   "cell_type": "markdown",
   "metadata": {},
   "source": [
    "### Borrow from the Seer of Seers, Sage of Sages, Prognosticator of Prognosticators \n",
    "Nate Silver at FiveThirtyEight claimed to have one of the most accurate forecasts of 2016.   \n",
    "This election, he did 40,000 simulations so we will do the same."
   ]
  },
  {
   "cell_type": "code",
   "execution_count": 14,
   "metadata": {},
   "outputs": [
    {
     "name": "stdout",
     "output_type": "stream",
     "text": [
      "40,000 Simulations of the Election\n",
      "\n",
      "Biden Win Probability: 73\n",
      "\n",
      "Trump Win Probability: 27\n",
      "\n"
     ]
    }
   ],
   "source": [
    "print(\"40,000 Simulations of the Election\")\n",
    "print()\n",
    "sims = 40000\n",
    "ec = list(df.ec.values)\n",
    "states = list(df.state.values)\n",
    "cand_1 = list(df['biden'].values)\n",
    "cand_1_wins, cand_1_ec_totals, cand_1_states = electoral_college(ec, cand_1, states, sims=sims)\n",
    "cand_2_ec_totals = [538 - x for x in cand_1_ec_totals]\n",
    "print('Biden Win Probability:', round((cand_1_wins/sims)*100))\n",
    "print()\n",
    "print('Trump Win Probability:', round(((sims - cand_1_wins)/sims)*100))\n",
    "print()"
   ]
  },
  {
   "cell_type": "markdown",
   "metadata": {},
   "source": [
    "### Guess who else has those odds..."
   ]
  },
  {
   "cell_type": "markdown",
   "metadata": {},
   "source": [
    "![538](https://raw.githubusercontent.com/ahoaglandnu/election2020/master/graphics/538.png)"
   ]
  },
  {
   "cell_type": "markdown",
   "metadata": {},
   "source": [
    "How...how is that even possible? My methodology is basically derivative nonsense."
   ]
  },
  {
   "cell_type": "markdown",
   "metadata": {},
   "source": [
    "### Examining the results of 40,000 simulations"
   ]
  },
  {
   "cell_type": "code",
   "execution_count": 15,
   "metadata": {},
   "outputs": [
    {
     "data": {
      "image/png": "[encoded data removed]",
      "text/plain": [
       "<Figure size 1296x576 with 1 Axes>"
      ]
     },
     "metadata": {},
     "output_type": "display_data"
    }
   ],
   "source": [
    "plt.figure(figsize=(18,8))\n",
    "plt.hist(cand_2_ec_totals,500)\n",
    "plt.hist(cand_1_ec_totals,500)\n",
    "plt.axvline(x=270, color='k', linestyle='dashed')\n",
    "plt.xlabel('Electoral College Votes')\n",
    "plt.ylabel('Number of Simulations')\n",
    "plt.title('Little Effort Poll Average Simulation Results')\n",
    "plt.show()"
   ]
  },
  {
   "cell_type": "markdown",
   "metadata": {},
   "source": [
    "### So what's the actual forecast?\n",
    "The peaks are of interest so we will see what the two most frequent results were."
   ]
  },
  {
   "cell_type": "code",
   "execution_count": 16,
   "metadata": {},
   "outputs": [
    {
     "name": "stdout",
     "output_type": "stream",
     "text": [
      "Electoral College Results: Biden 315\n",
      "Electoral College Results: Biden 319\n",
      "\n",
      "Electoral College Results: Trump 223\n",
      "Electoral College Results: Trump 219\n"
     ]
    }
   ],
   "source": [
    "for i,j in Counter(cand_1_ec_totals).most_common(n=2):\n",
    "    print('Electoral College Results: Biden',i)\n",
    "print()\n",
    "for i,j in Counter(cand_2_ec_totals).most_common(n=2):\n",
    "    print('Electoral College Results: Trump',i)"
   ]
  },
  {
   "cell_type": "markdown",
   "metadata": {},
   "source": [
    "### Looks like we were pretty close to the 538 model yet again..."
   ]
  },
  {
   "cell_type": "markdown",
   "metadata": {},
   "source": [
    "![538 ec](https://raw.githubusercontent.com/ahoaglandnu/election2020/master/graphics/538_ec.png)"
   ]
  },
  {
   "cell_type": "markdown",
   "metadata": {},
   "source": [
    "Our second most common results are within 6 of Nate Silver's forecast."
   ]
  },
  {
   "cell_type": "markdown",
   "metadata": {},
   "source": [
    "# The Economist has a forecast too"
   ]
  },
  {
   "cell_type": "markdown",
   "metadata": {},
   "source": [
    "They adjust their probabilities based on changes in national polling so we will do the same.\n",
    "\n",
    "In 2016, Clinton won 48.2% of the popular vote.  \n",
    "\n",
    "According to RealClearPolitics, Biden is averaging 49.8% nationally.  "
   ]
  },
  {
   "cell_type": "code",
   "execution_count": 17,
   "metadata": {},
   "outputs": [
    {
     "name": "stdout",
     "output_type": "stream",
     "text": [
      "Add to Biden for each state 1.5999999999999943\n"
     ]
    }
   ],
   "source": [
    "print('Add to Biden for each state', 49.8 - 48.2)"
   ]
  },
  {
   "cell_type": "markdown",
   "metadata": {},
   "source": [
    "### Adjusting for national polling shift"
   ]
  },
  {
   "cell_type": "code",
   "execution_count": 18,
   "metadata": {},
   "outputs": [],
   "source": [
    "df['biden'] = df['biden'] + ((49.8 - 48.2)/100)"
   ]
  },
  {
   "cell_type": "markdown",
   "metadata": {},
   "source": [
    "### Matching margin of error\n",
    "The Economist uses a larger margin of error so we will expand ours to +-5 to match theirs"
   ]
  },
  {
   "cell_type": "code",
   "execution_count": 19,
   "metadata": {},
   "outputs": [],
   "source": [
    "def electoral_college(ec, cand, state, sims=40000):\n",
    "    cand_wins = 0\n",
    "    cand_ec_total = []\n",
    "    cand_states = []\n",
    "    for i in range(sims):\n",
    "        cand_ec = 0\n",
    "        cand_state = []\n",
    "        for x, y, z in zip(cand, states, ec):\n",
    "            sim_election = np.random.uniform(low=0.025,high=.975)\n",
    "            moe_x = np.random.normal(0.05,.1)\n",
    "            x1 = moe_x + x\n",
    "            if x1 > sim_election:\n",
    "                cand_ec += z\n",
    "                cand_state.append(y)\n",
    "        cand_ec_total.append(cand_ec)\n",
    "        cand_states.append(cand_state)\n",
    "        if cand_ec > 269:\n",
    "            cand_wins += 1\n",
    "    return cand_wins, cand_ec_total, cand_states"
   ]
  },
  {
   "cell_type": "code",
   "execution_count": 20,
   "metadata": {},
   "outputs": [
    {
     "name": "stdout",
     "output_type": "stream",
     "text": [
      "20,000 Simulations of the Election\n",
      "\n",
      "Biden Win Probability: 85\n",
      "\n",
      "Trump Win Probability: 15\n",
      "\n"
     ]
    }
   ],
   "source": [
    "print(\"20,000 Simulations of the Election\")\n",
    "print()\n",
    "sims = 40000\n",
    "ec = list(df.ec.values)\n",
    "states = list(df.state.values)\n",
    "cand_1 = list(df['biden'].values)\n",
    "cand_1_wins, cand_1_ec_totals, cand_1_states = electoral_college(ec, cand_1, states, sims=sims)\n",
    "cand_2_ec_totals = [538 - x for x in cand_1_ec_totals]\n",
    "print('Biden Win Probability:', round((cand_1_wins/sims)*100))\n",
    "print()\n",
    "print('Trump Win Probability:', round(((sims - cand_1_wins)/sims)*100))\n",
    "print()"
   ]
  },
  {
   "cell_type": "markdown",
   "metadata": {},
   "source": [
    "### Using the RealClearPolitics polling data, we can get odds pretty close to the Economist"
   ]
  },
  {
   "cell_type": "markdown",
   "metadata": {},
   "source": [
    "![economist](https://raw.githubusercontent.com/ahoaglandnu/election2020/master/graphics/econ_prob.png)"
   ]
  },
  {
   "cell_type": "code",
   "execution_count": 21,
   "metadata": {},
   "outputs": [
    {
     "data": {
      "image/png": "[encoded data removed]",
      "text/plain": [
       "<Figure size 1296x576 with 1 Axes>"
      ]
     },
     "metadata": {},
     "output_type": "display_data"
    }
   ],
   "source": [
    "plt.figure(figsize=(18,8))\n",
    "plt.hist(cand_2_ec_totals,500)\n",
    "plt.hist(cand_1_ec_totals,500)\n",
    "plt.axvline(x=270, color='k', linestyle='dashed')\n",
    "plt.xlabel('Electoral College Votes')\n",
    "plt.ylabel('Number of Simulations')\n",
    "plt.title('State Polls Adjusted for National Trend Simulation Results')\n",
    "plt.show()"
   ]
  },
  {
   "cell_type": "markdown",
   "metadata": {},
   "source": [
    "### And our results?"
   ]
  },
  {
   "cell_type": "code",
   "execution_count": 22,
   "metadata": {},
   "outputs": [
    {
     "name": "stdout",
     "output_type": "stream",
     "text": [
      "Median Electoral College Results: Biden 322.0\n",
      "\n",
      "Median Electoral College Results: Trump 216.0\n"
     ]
    }
   ],
   "source": [
    "print('Median Electoral College Results: Biden',np.median(cand_1_ec_totals))\n",
    "print()\n",
    "print('Median Electoral College Results: Trump',np.median(cand_2_ec_totals))"
   ]
  },
  {
   "cell_type": "markdown",
   "metadata": {},
   "source": [
    "### Our median results are 21 or a state away from the Economist"
   ]
  },
  {
   "cell_type": "markdown",
   "metadata": {},
   "source": [
    "![econ median](https://raw.githubusercontent.com/ahoaglandnu/election2020/master/graphics/econ_median.png)"
   ]
  },
  {
   "cell_type": "markdown",
   "metadata": {},
   "source": [
    "### Conclusion\n",
    "\n",
    "With little to no effort, we can come incredibly close to the same odds and projected electoral college outcome of some of the most well known election forecasts out there. Using terminology that the average person is not familiar with does not make the model any more accurate or sophisticated, it makes it misleading.\n",
    "\n",
    "To quote Natalie Jackson:\n",
    "\n",
    "> ...marketing probabilistic poll-based forecasts to the general public is at best a disservice to the audience, and at worst could impact voter turnout and outcomes.\n",
    "\n",
    "You can read her full article here: [Poll-Based Election Forecasts Will Always Struggle With Uncertainty](https://centerforpolitics.org/crystalball/articles/poll-based-election-forecasts-will-always-struggle-with-uncertainty/)"
   ]
  },
  {
   "cell_type": "code",
   "execution_count": null,
   "metadata": {},
   "outputs": [],
   "source": []
  }
 ],
 "metadata": {
  "kernelspec": {
   "display_name": "Python 3",
   "language": "python",
   "name": "python3"
  },
  "language_info": {
   "codemirror_mode": {
    "name": "ipython",
    "version": 3
   },
   "file_extension": ".py",
   "mimetype": "text/x-python",
   "name": "python",
   "nbconvert_exporter": "python",
   "pygments_lexer": "ipython3",
   "version": "3.7.7"
  }
 },
 "nbformat": 4,
 "nbformat_minor": 4
}
